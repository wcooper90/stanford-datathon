{
  "nbformat": 4,
  "nbformat_minor": 0,
  "metadata": {
    "colab": {
      "name": "College Student Nutrition Data Code",
      "provenance": [],
      "collapsed_sections": []
    },
    "kernelspec": {
      "name": "python3",
      "display_name": "Python 3"
    },
    "language_info": {
      "name": "python"
    }
  },
  "cells": [
    {
      "cell_type": "code",
      "metadata": {
        "id": "7RnpXd-UGKkD"
      },
      "source": [
        "# Stanford Datathon\n",
        "# Team 205\n",
        "# Arnav Ascheti, Janavi Kasera, William Cooper \n",
        "# Concentration & Nutrition "
      ],
      "execution_count": null,
      "outputs": []
    },
    {
      "cell_type": "code",
      "metadata": {
        "id": "5XsQnnn_MmCr"
      },
      "source": [
        "# imports \n",
        "import numpy as np \n",
        "import pandas as pd\n",
        "import matplotlib.pyplot as plt\n",
        "import seaborn\n",
        "import altair as alt \n",
        "from scipy.stats import linregress\n"
      ],
      "execution_count": null,
      "outputs": []
    },
    {
      "cell_type": "code",
      "metadata": {
        "id": "09aFqP58MtTx"
      },
      "source": [
        "# class to analyze & plot college food data \n",
        "\n",
        "class Analysis(): \n",
        "  def __init__(self, file_path): \n",
        "    self.file_path = file_path\n",
        "    self.df = self.extract_data_to_df(self.file_path)\n",
        "\n",
        "\n",
        "  # Extract data from csv into pandas df \n",
        "  def extract_data_to_df(self, file_path): \n",
        "    df = pd.read_csv(file_path)\n",
        "    return df \n",
        "\n",
        "\n",
        "  # print line break \n",
        "  def line_break(self):\n",
        "    print(\"-\"*100)\n",
        "\n",
        "\n",
        "  # to help discover what independent variables to look at \n",
        "  def print_df_columns(self): \n",
        "    for col in self.df.columns: \n",
        "      print(col)\n",
        "\n",
        "\n",
        "  # clean the data (get rid of strings, nans)\n",
        "  def clean_data(self):\n",
        "    # from Kaggle\n",
        "    df = self.df \n",
        "    cols_with_missing = [col for col in df.columns if df[col].isnull().any()]\n",
        "\n",
        "    df['calories_day'].fillna(1,inplace=True)\n",
        "    df['comfort_food_reasons_coded'].fillna(9,inplace=True)\n",
        "    df['cuisine'].fillna(6,inplace=True)\n",
        "    df['employment'].fillna(4,inplace=True)\n",
        "    df['exercise'].fillna(5,inplace=True)\n",
        "    df['type_sports'].fillna('Nothing',inplace=True)\n",
        "\n",
        "    for i in cols_with_missing:\n",
        "     df = df[~df[i].isnull()]\n",
        "\n",
        "\n",
        "    df.dropna(subset=['GPA'],inplace=True)\n",
        "    df['GPA_new'] = df['GPA'].str.replace(\".\",\"\")\n",
        "    df = df[~df['GPA_new'].str.isdigit() == False]\n",
        "    df['GPA'] = df['GPA'].astype(float)\n",
        "    df.drop('GPA_new',axis=1,inplace=True) \n",
        "\n",
        "    df['calories_day'] = df['calories_day'].astype(int)\n",
        "    df['calories_scone'] = df['calories_scone'].astype(int)\n",
        "    df['life_rewarding'] = df['life_rewarding'].astype(int)\n",
        "    df['marital_status'] = df['marital_status'].astype(int)\n",
        "    df['mother_education'] = df['mother_education'].astype(int)\n",
        "    df['on_off_campus'] = df['on_off_campus'].astype(int)\n",
        "    df['persian_food'] = df['persian_food'].astype(int)\n",
        "    df['self_perception_weight'] = df['self_perception_weight'].astype(int)\n",
        "    df['soup'] = df['soup'].astype(int)\n",
        "    df['sports'] = df['sports'].astype(int)\n",
        "    df['tortilla_calories'] = df['tortilla_calories'].astype(int)\n",
        "\n",
        "    df = df[df['weight'].str.isdigit()]\n",
        "\n",
        "    self.df = df\n",
        "\n",
        "\n",
        "  # print head of df \n",
        "  def print_df(self, num_values=5):\n",
        "    print(self.df.head(num_values))\n",
        "\n",
        "\n",
        "  # define a concentraion index based on existing data \n",
        "  def create_concentration_index(self, GPA=True, health=True, life_rewarding=True): \n",
        "    concentration_index = [] \n",
        "    for index, row in self.df.iterrows():\n",
        "      concentration = 0 \n",
        "      variables = 0 \n",
        "      if GPA: \n",
        "        try: \n",
        "          # normalize GPA to a scale of 10, matching the other columns in this index \n",
        "          concentration += float(row[\"GPA\"]) * 2.5 \n",
        "          variables += 1\n",
        "        except:\n",
        "          pass\n",
        "\n",
        "      if health: \n",
        "        try: \n",
        "          concentration += row[\"healthy_feeling\"] \n",
        "          variables += 1\n",
        "        except: \n",
        "          pass\n",
        "\n",
        "      if life_rewarding: \n",
        "            try: \n",
        "              concentration += row[\"life_rewarding\"] \n",
        "              variables += 1\n",
        "            except:\n",
        "              pass\n",
        "\n",
        "      concentration /= variables \n",
        "      concentration_index.append(round(concentration, 2))\n",
        "\n",
        "    self.df[\"concentration_index\"] = concentration_index\n",
        "\n",
        "\n",
        "  def flow_control(self): \n",
        "    self.clean_data()\n",
        "    self.create_concentration_index()\n",
        "    self.line_break()\n",
        "    self.print_df()\n",
        "  \n",
        "\n",
        "  # interactive graph with extra opacity variable \n",
        "  def altair_scatter_plot(self, independent_variable, financial_health=True): \n",
        "    source = self.df\n",
        "    self.line_break()\n",
        "    if financial_health:\n",
        "      chart = alt.Chart(source).mark_point(size=60).encode(\n",
        "          x=independent_variable,\n",
        "          y='concentration_index',\n",
        "          color='income',\n",
        "          tooltip=['income', 'concentration_index', independent_variable]\n",
        "      ).interactive()\n",
        "      return chart\n",
        "    else: \n",
        "      chart = alt.Chart(source).mark_circle(size=60).encode(\n",
        "          x=independent_variable,\n",
        "          y='concentration_index',\n",
        "      ).interactive()\n",
        "\n",
        "      return chart\n",
        "\n",
        "  # matplotlib, line of best fit with scatterplot & stats \n",
        "  def matplotlib_scatter_plot(self, independent_variable): \n",
        "    source = self.df\n",
        "    self.line_break()\n",
        "    x = source[independent_variable]\n",
        "    y = source[\"concentration_index\"]\n",
        "    plt.plot(x, y, 'o')\n",
        "    plt.xlabel(str(independent_variable))\n",
        "    plt.ylabel(\"concentration_index\")\n",
        "    plt.title(\"Concentration Index vs \" + str(independent_variable))\n",
        "    m, b = np.polyfit(x, y, 1)\n",
        "    print(\"m: \" + str(m))\n",
        "    print(\"b: \" + str(b))\n",
        "    print(linregress(x,y))\n",
        "    plt.plot(x, m*x + b)\n",
        "\n",
        "\n"
      ],
      "execution_count": null,
      "outputs": []
    },
    {
      "cell_type": "code",
      "metadata": {
        "colab": {
          "base_uri": "https://localhost:8080/",
          "height": 544
        },
        "id": "5oJLgxIPM3VB",
        "outputId": "d7f52788-e12e-447c-e35e-35911049b350"
      },
      "source": [
        "# driver code \n",
        "\n",
        "file_path = \"college_food_data.csv\"\n",
        "data_object = Analysis(file_path)\n",
        "data_object.flow_control()\n",
        "# data_object.print_df_columns()\n",
        "\n",
        "independent_variable = \"cook\"\n",
        "data_object.matplotlib_scatter_plot(independent_variable)\n",
        "#data_object.altair_scatter_plot(independent_variable)\n"
      ],
      "execution_count": null,
      "outputs": [
        {
          "output_type": "stream",
          "text": [
            "----------------------------------------------------------------------------------------------------\n",
            "     GPA  Gender  breakfast  ...  waffle_calories  weight  concentration_index\n",
            "0  2.400       2          1  ...             1315     187                 3.00\n",
            "1  3.654       1          1  ...              900     155                 5.04\n",
            "4  3.500       1          1  ...              760     190                 5.25\n",
            "5  2.250       1          1  ...             1315     190                 4.54\n",
            "6  3.800       2          1  ...             1315     180                 7.17\n",
            "\n",
            "[5 rows x 62 columns]\n",
            "----------------------------------------------------------------------------------------------------\n",
            "m: 0.016218351225440807\n",
            "b: 6.378179056106947\n",
            "LinregressResult(slope=0.01621835122544059, intercept=6.378179056106947, rvalue=0.009462324547187605, pvalue=0.9274858949764133, stderr=0.17772476307811752)\n"
          ],
          "name": "stdout"
        },
        {
          "output_type": "display_data",
          "data": {
            "image/png": "[encoded data removed]",
            "text/plain": [
              "<Figure size 432x288 with 1 Axes>"
            ]
          },
          "metadata": {
            "tags": [],
            "needs_background": "light"
          }
        }
      ]
    },
    {
      "cell_type": "code",
      "metadata": {
        "colab": {
          "base_uri": "https://localhost:8080/"
        },
        "id": "7HQbe9H4M87j",
        "outputId": "e0f9546c-fbec-4eb9-d4e1-f682d91f79d9"
      },
      "source": [
        "import scipy.stats\n",
        "\n",
        "result_table = []\n",
        "\n",
        "result = scipy.stats.linregress(data_object.df['exercise'], data_object.df['concentration_index'])\n",
        "result_table.append(result.slope)\n",
        "result_table.append(result.intercept)\n",
        "result_table.append(result.rvalue)\n",
        "result_table.append(result.pvalue)\n",
        "result_table.append(result.stderr)\n",
        "\n",
        "print(result_table)\n"
      ],
      "execution_count": null,
      "outputs": [
        {
          "output_type": "stream",
          "text": [
            "[nan, nan, nan, nan, nan]\n"
          ],
          "name": "stdout"
        }
      ]
    },
    {
      "cell_type": "code",
      "metadata": {
        "id": "RnbzH3xldBiS"
      },
      "source": [
        ""
      ],
      "execution_count": null,
      "outputs": []
    }
  ]
}